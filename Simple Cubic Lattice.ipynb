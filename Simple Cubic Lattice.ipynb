{
 "metadata": {
  "language_info": {
   "codemirror_mode": {
    "name": "ipython",
    "version": 3
   },
   "file_extension": ".py",
   "mimetype": "text/x-python",
   "name": "python",
   "nbconvert_exporter": "python",
   "pygments_lexer": "ipython3",
   "version": "3.9.0"
  },
  "orig_nbformat": 4,
  "kernelspec": {
   "name": "python3",
   "display_name": "Python 3.9.0 64-bit"
  },
  "interpreter": {
   "hash": "a9c1387708d9e4974b2be20baf1ba03d24dc421de985eaacaca663e211393d73"
  }
 },
 "nbformat": 4,
 "nbformat_minor": 2,
 "cells": [
  {
   "cell_type": "code",
   "execution_count": 17,
   "metadata": {},
   "outputs": [
    {
     "output_type": "stream",
     "name": "stdout",
     "text": [
      "0.3326943784920376\n0.8366524389961844\n"
     ]
    }
   ],
   "source": [
    "# -*- coding: utf-8 -*-\n",
    "\"\"\"\n",
    "Created on Tue Mar  5 19:35:00 2019\n",
    "\n",
    "@author: USER\n",
    "\"\"\"\n",
    "import math,cmath\n",
    "import numpy as np\n",
    "\n",
    "n=100\n",
    "y=0.1705\n",
    "#the 8 positions of the atoms\n",
    "pos=numpy.array([[0,0,0],[0,0,1/2],[y,2*y,1/4],[-2*y,-y,1/4],[y,-y,1/4],[-y,-2*y,3/4],[-y,y,3/4],[2*y,y,3/4]])\n",
    "#pos=numpy.array([[y,2*y,1/4],[-2*y,-y,1/4],[y,-y,1/4],[-y,-2*y,3/4],[-y,y,3/4],[2*y,y,3/4]])\n",
    "#pos=numpy.array([[0,0,0],[0,0,1/2]])\n",
    "\n",
    "#thats miller indices\n",
    "q_1=[3,0,1]\n",
    "q_sdw=[0,0,0.1]\n",
    "q_2=[1,0,1.1]\n",
    "#I think this indicates ferromagent state\n",
    "sf_fm=0\n",
    "for p in range (0,len(pos)):\n",
    "    #this is the dot product between position and miller indices\n",
    "    sfexp=numpy.dot(pos[p],q_1)\n",
    "    #spin\n",
    "    moment=1\n",
    "    #Thats equation 3.35 from the book\n",
    "    sf_fm+=moment*cmath.exp(complex(0,-2*cmath.pi*sfexp))  \n",
    "print(abs(sf_fm)**2)\n",
    "\n",
    "#I think this indicates the SDW state\n",
    "sf_sdw=0\n",
    "\n",
    "#Iterate 100 times \n",
    "#the overall method is the same its just the equation used is different....idk why\n",
    "for i in range (0,n):\n",
    "    for p in range (0,len(pos)):\n",
    "        #only changes the last index of the position array\n",
    "        sfexp=numpy.dot(pos[p]+[0,0,i],q_2)\n",
    "        #this is some way to calculate the momentum\n",
    "        moment= 1*math.cos(2*math.pi*(pos[p][2]+i)*q_sdw[2])\n",
    "\n",
    "        sf_sdw+=moment*cmath.exp(complex(0,-2*cmath.pi*sfexp))\n",
    "print(abs(sf_sdw/n)**2)\n",
    "\n",
    "#There has to be an equation with dividing it by 100 or something \n",
    "    \n"
   ]
  },
  {
   "cell_type": "code",
   "execution_count": 93,
   "metadata": {},
   "outputs": [
    {
     "output_type": "stream",
     "name": "stdout",
     "text": [
      "49.28967378778049\n"
     ]
    }
   ],
   "source": [
    "#simple cubic lattice with \n",
    "#No consideration of angles \n",
    "import numpy as np\n",
    "import cmath\n",
    "#Positions u:\n",
    "u = np.array([[0,0,0], [1,0,0], [1,1,0],\n",
    "[0,1,0],[0,0,1],[1,0,1],[1,1,1],[0,1,1]])\n",
    "\n",
    "#Miller indicies \n",
    "Q = np.array([0,0,1])\n",
    "#magnetic from factor\n",
    "m = 0\n",
    "for i in range (0,len(u)):\n",
    "    \n",
    "    #this is the dot product between position and miller indices\n",
    "    power=np.dot(u[i],Q)\n",
    "    #magnetic moment independent of Q\n",
    "    moment=1\n",
    "    #Thats equation 3.35 from the book\n",
    "    m+=moment*cmath.exp(complex(0,-power))  \n",
    "print(abs(m)**2)\n",
    "\n",
    "\n"
   ]
  },
  {
   "cell_type": "code",
   "execution_count": 18,
   "metadata": {},
   "outputs": [
    {
     "output_type": "stream",
     "name": "stdout",
     "text": [
      "50.496471565333884\n"
     ]
    }
   ],
   "source": [
    "\n",
    "#Here we assume one universal angle:\n",
    "u = np.array([[0,0,0], [1,0,0], [1,1,0],\n",
    "[0,1,0],[0,0,1],[1,0,1],[1,1,1],[0,1,1]])\n",
    "Q = np.array([0,0,1])\n",
    "\n",
    "\n",
    "angle = 0\n",
    "m=0\n",
    "for i in range(0,len(u)):\n",
    "\n",
    "    Q_modulo = np.sqrt((Q*Q).sum())\n",
    "    \n",
    "    u_modulo = np.sqrt((u[i]*u[i]).sum())\n",
    "\n",
    "    angle = math.radians(angle)\n",
    "    angle_power = math.cos(angle)\n",
    "    power = u_modulo*Q_modulo*angle_power\n",
    "    #magnetic moment independent of Q\n",
    "    moment=1\n",
    "    #Thats equation 3.35 from the book\n",
    "    m+=moment*cmath.exp(complex(0,-power))  \n",
    "\n",
    "print(abs(m)**2)\n",
    "\n"
   ]
  },
  {
   "cell_type": "code",
   "execution_count": 105,
   "metadata": {},
   "outputs": [
    {
     "output_type": "stream",
     "name": "stdout",
     "text": [
      "42.47023928773756\n"
     ]
    }
   ],
   "source": [
    "#simple cubic lattice with \n",
    "#NOW assume we dont have a different degree between Q and u\n",
    "import numpy as np\n",
    "import cmath\n",
    "#Positions u:\n",
    "u = np.array([[0,0,0], [1,0,0], [1,1,0],\n",
    "[0,1,0],[0,0,1],[1,0,1],[1,1,1],[0,1,1]])\n",
    "\n",
    "#Miller indicies \n",
    "Q = np.array([0,0,1])\n",
    "#magnetic from factor\n",
    "\n",
    "#angle in degrees, assuming every coordinate has a different angle wrt Q in the case 001\n",
    "angles = [0, 90,90,90,0, 45, 54.7 , 45]\n",
    "\n",
    "\n",
    "m = 0\n",
    "for i in range (0,len(u)):\n",
    "    \n",
    "    #this is the dot product between position and miller indices\n",
    "    #power=np.dot(u[i],Q)\n",
    "    u_modulo = np.sqrt((u[i]*u[i]).sum())\n",
    "    Q_modulo = np.sqrt((Q*Q).sum())\n",
    "    \n",
    "\n",
    "    angle = math.radians(angles[i])\n",
    "    angle_power = round(math.cos(angles[i]),5)\n",
    "\n",
    "    power = u_modulo*Q_modulo*angle_power\n",
    "    #magnetic moment independent of Q\n",
    "    moment=1\n",
    "    #Thats equation 3.35 from the book\n",
    "    m+=moment*cmath.exp(complex(0,-power))  \n",
    "print(abs(m)**2)\n",
    "\n",
    "\n"
   ]
  },
  {
   "cell_type": "code",
   "execution_count": 19,
   "metadata": {},
   "outputs": [
    {
     "output_type": "stream",
     "name": "stdout",
     "text": [
      "0\n0\n0\n0\n1\n1\n1\n1\n"
     ]
    }
   ],
   "source": [
    "import numpy as np\n",
    "u = np.array([[0,0,0], [1,0,0], [1,0,0],\n",
    "[0,1,0],[0,0,1],[1,0,1],[1,1,1],[0,1,1]])\n",
    "Q = np.array([0,0,1])\n",
    "for i in range (0,len(u)):\n",
    "    \n",
    "    #this is the dot product between position and miller indices\n",
    "    power=np.dot(u[i],Q)\n",
    "    print(power)"
   ]
  },
  {
   "cell_type": "code",
   "execution_count": 23,
   "metadata": {},
   "outputs": [],
   "source": [
    "from crystals import Crystal\n",
    "#This is the primitive cell file .cif\n",
    "NbFe2 = Crystal.from_cif(r'C:\\Users\\krist\\AppData\\Local\\Programs\\Python\\Python39\\Lib\\site-packages\\crystals\\cifs\\NbFe2.cif') "
   ]
  },
  {
   "cell_type": "code",
   "execution_count": 24,
   "metadata": {},
   "outputs": [
    {
     "output_type": "execute_result",
     "data": {
      "text/plain": [
       "< Crystal object with following unit cell:\n",
       "    Atom Fe @ (0.12, 0.62, 0.62)\n",
       "    Atom Fe @ (0.62, 0.12, 0.62)\n",
       "    Atom Fe @ (0.62, 0.62, 0.12)\n",
       "    Atom Fe @ (0.62, 0.62, 0.62)\n",
       "    Atom Nb @ (0.00, 0.00, 0.00)\n",
       "    Atom Nb @ (0.25, 0.25, 0.25)\n",
       "Lattice parameters:\n",
       "    a=4.825Å, b=4.825Å, c=4.825Å\n",
       "    α=60.000°, β=60.000°, γ=60.000°\n",
       "Chemical composition:\n",
       "    Fe: 66.667%\n",
       "    Nb: 33.333% >"
      ]
     },
     "metadata": {},
     "execution_count": 24
    }
   ],
   "source": [
    "NbFe2"
   ]
  },
  {
   "cell_type": "code",
   "execution_count": 30,
   "metadata": {},
   "outputs": [
    {
     "output_type": "execute_result",
     "data": {
      "text/plain": [
       "array([3.93968236, 1.39288805, 2.41255288])"
      ]
     },
     "metadata": {},
     "execution_count": 30
    }
   ],
   "source": [
    "a1, a2, a3 = NbFe2.lattice_vectors\n",
    "a1"
   ]
  }
 ]
}