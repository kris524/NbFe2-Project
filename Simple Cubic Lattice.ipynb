{
 "metadata": {
  "language_info": {
   "codemirror_mode": {
    "name": "ipython",
    "version": 3
   },
   "file_extension": ".py",
   "mimetype": "text/x-python",
   "name": "python",
   "nbconvert_exporter": "python",
   "pygments_lexer": "ipython3",
   "version": "3.9.0"
  },
  "orig_nbformat": 4,
  "kernelspec": {
   "name": "python3",
   "display_name": "Python 3.9.0 64-bit"
  },
  "interpreter": {
   "hash": "a9c1387708d9e4974b2be20baf1ba03d24dc421de985eaacaca663e211393d73"
  }
 },
 "nbformat": 4,
 "nbformat_minor": 2,
 "cells": [
  {
   "cell_type": "code",
   "execution_count": 50,
   "metadata": {},
   "outputs": [
    {
     "output_type": "stream",
     "name": "stdout",
     "text": [
      "0.3326943784920376\n0.8366524389961908\n"
     ]
    }
   ],
   "source": [
    "# -*- coding: utf-8 -*-\n",
    "\"\"\"\n",
    "Created on Tue Mar  5 19:35:00 2019\n",
    "\n",
    "@author: USER\n",
    "\"\"\"\n",
    "import math,cmath\n",
    "import numpy\n",
    "\n",
    "n=100\n",
    "y=0.1705\n",
    "#the 8 positions of the atoms\n",
    "pos=numpy.array([[0,0,0],[0,0,1/2],[y,2*y,1/4],[-2*y,-y,1/4],[y,-y,1/4],[-y,-2*y,3/4],[-y,y,3/4],[2*y,y,3/4]])\n",
    "#pos=numpy.array([[y,2*y,1/4],[-2*y,-y,1/4],[y,-y,1/4],[-y,-2*y,3/4],[-y,y,3/4],[2*y,y,3/4]])\n",
    "#pos=numpy.array([[0,0,0],[0,0,1/2]])\n",
    "\n",
    "#thats miller indices\n",
    "q_1=[3,0,1]\n",
    "q_sdw=[0,0,0.1]\n",
    "q_2=[1,0,1.1]\n",
    "#I think this indicates ferromagent state\n",
    "sf_fm=0\n",
    "for p in range (0,len(pos)):\n",
    "    #this is the dot product between position and miller indices\n",
    "    sfexp=numpy.dot(pos[p],q_1)\n",
    "    #spin\n",
    "    moment=1\n",
    "    #Thats equation 3.35 from the book\n",
    "    sf_fm+=moment*cmath.exp(complex(0,-2*cmath.pi*sfexp))  \n",
    "print(abs(sf_fm)**2)\n",
    "\n",
    "#I think this indicates the SDW state\n",
    "sf_sdw=0\n",
    "\n",
    "#Iterate 100 times \n",
    "#the overall method is the same its just the equation used is different....idk why\n",
    "for i in range (0,n):\n",
    "    for p in range (0,len(pos)):\n",
    "        #only changes the last index of the position array\n",
    "        sfexp=numpy.dot(pos[p]+[0,0,i],q_2)\n",
    "        #this is some way to calculate the momentum\n",
    "        moment= 1*math.cos(2*math.pi*(pos[p][2]+i)*q_sdw[2])\n",
    "\n",
    "        sf_sdw+=moment*cmath.exp(complex(0,-2*cmath.pi*sfexp))\n",
    "print(abs(sf_sdw/n)**2)\n",
    "\n",
    "#There has to be an equation with dividing it by 100 or something \n",
    "    \n"
   ]
  },
  {
   "cell_type": "code",
   "execution_count": 93,
   "metadata": {},
   "outputs": [
    {
     "output_type": "stream",
     "name": "stdout",
     "text": [
      "49.28967378778049\n"
     ]
    }
   ],
   "source": [
    "#simple cubic lattice with \n",
    "#No consideration of angles \n",
    "import numpy as np\n",
    "import cmath\n",
    "#Positions u:\n",
    "u = np.array([[0,0,0], [1,0,0], [1,1,0],\n",
    "[0,1,0],[0,0,1],[1,0,1],[1,1,1],[0,1,1]])\n",
    "\n",
    "#Miller indicies \n",
    "Q = np.array([0,0,1])\n",
    "#magnetic from factor\n",
    "m = 0\n",
    "for i in range (0,len(u)):\n",
    "    \n",
    "    #this is the dot product between position and miller indices\n",
    "    power=np.dot(u[i],Q)\n",
    "    #magnetic moment independent of Q\n",
    "    moment=1\n",
    "    #Thats equation 3.35 from the book\n",
    "    m+=moment*cmath.exp(complex(0,-power))  \n",
    "print(abs(m)**2)\n",
    "\n",
    "\n"
   ]
  },
  {
   "cell_type": "code",
   "execution_count": 131,
   "metadata": {},
   "outputs": [
    {
     "output_type": "stream",
     "name": "stdout",
     "text": [
      "50.496471565333884\n"
     ]
    }
   ],
   "source": [
    "\n",
    "#Here we assume one universal angle:\n",
    "u = np.array([[0,0,0], [1,0,0], [1,1,0],\n",
    "[0,1,0],[0,0,1],[1,0,1],[1,1,1],[0,1,1]])\n",
    "Q = np.array([0,0,1])\n",
    "\n",
    "\n",
    "angle = 0\n",
    "m=0\n",
    "for i in range(0,len(u)):\n",
    "\n",
    "    Q_modulo = np.sqrt((Q*Q).sum())\n",
    "    \n",
    "    u_modulo = np.sqrt((u[i]*u[i]).sum())\n",
    "\n",
    "    angle = math.radians(angle)\n",
    "    angle_power = math.cos(angle)\n",
    "    power = u_modulo*Q_modulo*angle_power\n",
    "    #magnetic moment independent of Q\n",
    "    moment=1\n",
    "    #Thats equation 3.35 from the book\n",
    "    m+=moment*cmath.exp(complex(0,-power))  \n",
    "\n",
    "print(abs(m)**2)\n",
    "\n"
   ]
  },
  {
   "cell_type": "code",
   "execution_count": 105,
   "metadata": {},
   "outputs": [
    {
     "output_type": "stream",
     "name": "stdout",
     "text": [
      "42.47023928773756\n"
     ]
    }
   ],
   "source": [
    "#simple cubic lattice with \n",
    "#NOW assume we dont have a different degree between Q and u\n",
    "import numpy as np\n",
    "import cmath\n",
    "#Positions u:\n",
    "u = np.array([[0,0,0], [1,0,0], [1,1,0],\n",
    "[0,1,0],[0,0,1],[1,0,1],[1,1,1],[0,1,1]])\n",
    "\n",
    "#Miller indicies \n",
    "Q = np.array([0,0,1])\n",
    "#magnetic from factor\n",
    "\n",
    "#angle in degrees, assuming every coordinate has a different angle wrt Q in the case 001\n",
    "angles = [0, 90,90,90,0, 45, 54.7 , 45]\n",
    "\n",
    "\n",
    "m = 0\n",
    "for i in range (0,len(u)):\n",
    "    \n",
    "    #this is the dot product between position and miller indices\n",
    "    #power=np.dot(u[i],Q)\n",
    "    u_modulo = np.sqrt((u[i]*u[i]).sum())\n",
    "    Q_modulo = np.sqrt((Q*Q).sum())\n",
    "    \n",
    "\n",
    "    angle = math.radians(angles[i])\n",
    "    angle_power = round(math.cos(angles[i]),5)\n",
    "\n",
    "    power = u_modulo*Q_modulo*angle_power\n",
    "    #magnetic moment independent of Q\n",
    "    moment=1\n",
    "    #Thats equation 3.35 from the book\n",
    "    m+=moment*cmath.exp(complex(0,-power))  \n",
    "print(abs(m)**2)\n",
    "\n",
    "\n"
   ]
  },
  {
   "cell_type": "code",
   "execution_count": 70,
   "metadata": {},
   "outputs": [
    {
     "output_type": "stream",
     "name": "stdout",
     "text": [
      "0\n0\n0\n0\n1\n1\n1\n1\n"
     ]
    }
   ],
   "source": [
    "u = np.array([[0,0,0], [1,0,0], [1,0,0],\n",
    "[0,1,0],[0,0,1],[1,0,1],[1,1,1],[0,1,1]])\n",
    "Q = np.array([0,0,1])\n",
    "for i in range (0,len(u)):\n",
    "    \n",
    "    #this is the dot product between position and miller indices\n",
    "    power=np.dot(u[i],Q)\n",
    "    print(power)"
   ]
  },
  {
   "cell_type": "code",
   "execution_count": 2,
   "metadata": {},
   "outputs": [
    {
     "output_type": "stream",
     "name": "stdout",
     "text": [
      "tures\n",
      "  copying pymatgen\\util\\structures\\SrTiO3.json -> build\\lib.win-amd64-3.9\\pymatgen\\util\\structures\n",
      "  copying pymatgen\\util\\structures\\TiO2.json -> build\\lib.win-amd64-3.9\\pymatgen\\util\\structures\n",
      "  copying pymatgen\\util\\structures\\TlBiSe2.json -> build\\lib.win-amd64-3.9\\pymatgen\\util\\structures\n",
      "  copying pymatgen\\util\\structures\\VO2.json -> build\\lib.win-amd64-3.9\\pymatgen\\util\\structures\n",
      "  copying pymatgen\\util\\plotly_pd_layouts.json -> build\\lib.win-amd64-3.9\\pymatgen\\util\n",
      "  copying pymatgen\\vis\\ElementColorSchemes.yaml -> build\\lib.win-amd64-3.9\\pymatgen\\vis\n",
      "  copying pymatgen\\analysis\\chemenv\\coordination_environments\\coordination_geometries_files\\A#2.json -> build\\lib.win-amd64-3.9\\pymatgen\\analysis\\chemenv\\coordination_environments\\coordination_geometries_files\n",
      "  copying pymatgen\\analysis\\chemenv\\coordination_environments\\coordination_geometries_files\\AC#12.json -> build\\lib.win-amd64-3.9\\pymatgen\\analysis\\chemenv\\coordination_environments\\coordination_geometries_files\n",
      "  copying pymatgen\\analysis\\chemenv\\coordination_environments\\coordination_geometries_files\\BO_1#8.json -> build\\lib.win-amd64-3.9\\pymatgen\\analysis\\chemenv\\coordination_environments\\coordination_geometries_files\n",
      "  copying pymatgen\\analysis\\chemenv\\coordination_environments\\coordination_geometries_files\\BO_2#8.json -> build\\lib.win-amd64-3.9\\pymatgen\\analysis\\chemenv\\coordination_environments\\coordination_geometries_files\n",
      "  copying pymatgen\\analysis\\chemenv\\coordination_environments\\coordination_geometries_files\\BO_3#8.json -> build\\lib.win-amd64-3.9\\pymatgen\\analysis\\chemenv\\coordination_environments\\coordination_geometries_files\n",
      "  copying pymatgen\\analysis\\chemenv\\coordination_environments\\coordination_geometries_files\\BS_1#10.json -> build\\lib.win-amd64-3.9\\pymatgen\\analysis\\chemenv\\coordination_environments\\coordination_geometries_files\n",
      "  copying pymatgen\\analysis\\chemenv\\coordination_environments\\coordination_geometries_files\\BS_2#10.json -> build\\lib.win-amd64-3.9\\pymatgen\\analysis\\chemenv\\coordination_environments\\coordination_geometries_files\n",
      "  copying pymatgen\\analysis\\chemenv\\coordination_environments\\coordination_geometries_files\\C#12.json -> build\\lib.win-amd64-3.9\\pymatgen\\analysis\\chemenv\\coordination_environments\\coordination_geometries_files\n",
      "  copying pymatgen\\analysis\\chemenv\\coordination_environments\\coordination_geometries_files\\C#8.json -> build\\lib.win-amd64-3.9\\pymatgen\\analysis\\chemenv\\coordination_environments\\coordination_geometries_files\n",
      "  copying pymatgen\\analysis\\chemenv\\coordination_environments\\coordination_geometries_files\\CO#11.json -> build\\lib.win-amd64-3.9\\pymatgen\\analysis\\chemenv\\coordination_environments\\coordination_geometries_files\n",
      "  copying pymatgen\\analysis\\chemenv\\coordination_environments\\coordination_geometries_files\\DD#20.json -> build\\lib.win-amd64-3.9\\pymatgen\\analysis\\chemenv\\coordination_environments\\coordination_geometries_files\n",
      "  copying pymatgen\\analysis\\chemenv\\coordination_environments\\coordination_geometries_files\\DD#8.json -> build\\lib.win-amd64-3.9\\pymatgen\\analysis\\chemenv\\coordination_environments\\coordination_geometries_files\n",
      "  copying pymatgen\\analysis\\chemenv\\coordination_environments\\coordination_geometries_files\\DDPN#8.json -> build\\lib.win-amd64-3.9\\pymatgen\\analysis\\chemenv\\coordination_environments\\coordination_geometries_files\n",
      "  copying pymatgen\\analysis\\chemenv\\coordination_environments\\coordination_geometries_files\\DI#11.json -> build\\lib.win-amd64-3.9\\pymatgen\\analysis\\chemenv\\coordination_environments\\coordination_geometries_files\n",
      "  copying pymatgen\\analysis\\chemenv\\coordination_environments\\coordination_geometries_files\\ET#7.json -> build\\lib.win-amd64-3.9\\pymatgen\\analysis\\chemenv\\coordination_environments\\coordination_geometries_files\n",
      "  copying pymatgen\\analysis\\chemenv\\coordination_environments\\coordination_geometries_files\\FO#7.json -> build\\lib.win-amd64-3.9\\pymatgen\\analysis\\chemenv\\coordination_environments\\coordination_geometries_files\n",
      "  copying pymatgen\\analysis\\chemenv\\coordination_environments\\coordination_geometries_files\\H#10.json -> build\\lib.win-amd64-3.9\\pymatgen\\analysis\\chemenv\\coordination_environments\\coordination_geometries_files\n",
      "  copying pymatgen\\analysis\\chemenv\\coordination_environments\\coordination_geometries_files\\H#11.json -> build\\lib.win-amd64-3.9\\pymatgen\\analysis\\chemenv\\coordination_environments\\coordination_geometries_files\n",
      "  copying pymatgen\\analysis\\chemenv\\coordination_environments\\coordination_geometries_files\\HA#12.json -> build\\lib.win-amd64-3.9\\pymatgen\\analysis\\chemenv\\coordination_environments\\coordination_geometries_files\n",
      "  copying pymatgen\\analysis\\chemenv\\coordination_environments\\coordination_geometries_files\\HB#8.json -> build\\lib.win-amd64-3.9\\pymatgen\\analysis\\chemenv\\coordination_environments\\coordination_geometries_files\n",
      "  copying pymatgen\\analysis\\chemenv\\coordination_environments\\coordination_geometries_files\\HD#9.json -> build\\lib.win-amd64-3.9\\pymatgen\\analysis\\chemenv\\coordination_environments\\coordination_geometries_files\n",
      "  copying pymatgen\\analysis\\chemenv\\coordination_environments\\coordination_geometries_files\\HP#12.json -> build\\lib.win-amd64-3.9\\pymatgen\\analysis\\chemenv\\coordination_environments\\coordination_geometries_files\n",
      "  copying pymatgen\\analysis\\chemenv\\coordination_environments\\coordination_geometries_files\\I#12.json -> build\\lib.win-amd64-3.9\\pymatgen\\analysis\\chemenv\\coordination_environments\\coordination_geometries_files\n",
      "  copying pymatgen\\analysis\\chemenv\\coordination_environments\\coordination_geometries_files\\L#2.json -> build\\lib.win-amd64-3.9\\pymatgen\\analysis\\chemenv\\coordination_environments\\coordination_geometries_files\n",
      "  copying pymatgen\\analysis\\chemenv\\coordination_environments\\coordination_geometries_files\\MI#10.json -> build\\lib.win-amd64-3.9\\pymatgen\\analysis\\chemenv\\coordination_environments\\coordination_geometries_files\n",
      "  copying pymatgen\\analysis\\chemenv\\coordination_environments\\coordination_geometries_files\\O#6.json -> build\\lib.win-amd64-3.9\\pymatgen\\analysis\\chemenv\\coordination_environments\\coordination_geometries_files\n",
      "  copying pymatgen\\analysis\\chemenv\\coordination_environments\\coordination_geometries_files\\O#6_explicit.json -> build\\lib.win-amd64-3.9\\pymatgen\\analysis\\chemenv\\coordination_environments\\coordination_geometries_files\n",
      "  copying pymatgen\\analysis\\chemenv\\coordination_environments\\coordination_geometries_files\\PA#10.json -> build\\lib.win-amd64-3.9\\pymatgen\\analysis\\chemenv\\coordination_environments\\coordination_geometries_files\n",
      "  copying pymatgen\\analysis\\chemenv\\coordination_environments\\coordination_geometries_files\\PB#7.json -> build\\lib.win-amd64-3.9\\pymatgen\\analysis\\chemenv\\coordination_environments\\coordination_geometries_files\n",
      "  copying pymatgen\\analysis\\chemenv\\coordination_environments\\coordination_geometries_files\\PBP#12.json -> build\\lib.win-amd64-3.9\\pymatgen\\analysis\\chemenv\\coordination_environments\\coordination_geometries_files\n",
      "  copying pymatgen\\analysis\\chemenv\\coordination_environments\\coordination_geometries_files\\PCPA#11.json -> build\\lib.win-amd64-3.9\\pymatgen\\analysis\\chemenv\\coordination_environments\\coordination_geometries_files\n",
      "  copying pymatgen\\analysis\\chemenv\\coordination_environments\\coordination_geometries_files\\PP#10.json -> build\\lib.win-amd64-3.9\\pymatgen\\analysis\\chemenv\\coordination_environments\\coordination_geometries_files\n",
      "  copying pymatgen\\analysis\\chemenv\\coordination_environments\\coordination_geometries_files\\PP#5.json -> build\\lib.win-amd64-3.9\\pymatgen\\analysis\\chemenv\\coordination_environments\\coordination_geometries_files\n",
      "  copying pymatgen\\analysis\\chemenv\\coordination_environments\\coordination_geometries_files\\PP#6.json -> build\\lib.win-amd64-3.9\\pymatgen\\analysis\\chemenv\\coordination_environments\\coordination_geometries_files\n",
      "  copying pymatgen\\analysis\\chemenv\\coordination_environments\\coordination_geometries_files\\S#1.json -> build\\lib.win-amd64-3.9\\pymatgen\\analysis\\chemenv\\coordination_environments\\coordination_geometries_files\n",
      "  copying pymatgen\\analysis\\chemenv\\coordination_environments\\coordination_geometries_files\\S#10.json -> build\\lib.win-amd64-3.9\\pymatgen\\analysis\\chemenv\\coordination_environments\\coordination_geometries_files\n",
      "  copying pymatgen\\analysis\\chemenv\\coordination_environments\\coordination_geometries_files\\S#12.json -> build\\lib.win-amd64-3.9\\pymatgen\\analysis\\chemenv\\coordination_environments\\coordination_geometries_files\n",
      "  copying pymatgen\\analysis\\chemenv\\coordination_environments\\coordination_geometries_files\\S#4.json -> build\\lib.win-amd64-3.9\\pymatgen\\analysis\\chemenv\\coordination_environments\\coordination_geometries_files\n",
      "  copying pymatgen\\analysis\\chemenv\\coordination_environments\\coordination_geometries_files\\S#5.json -> build\\lib.win-amd64-3.9\\pymatgen\\analysis\\chemenv\\coordination_environments\\coordination_geometries_files\n",
      "  copying pymatgen\\analysis\\chemenv\\coordination_environments\\coordination_geometries_files\\SA#8.json -> build\\lib.win-amd64-3.9\\pymatgen\\analysis\\chemenv\\coordination_environments\\coordination_geometries_files\n",
      "  copying pymatgen\\analysis\\chemenv\\coordination_environments\\coordination_geometries_files\\SBSA#10.json -> build\\lib.win-amd64-3.9\\pymatgen\\analysis\\chemenv\\coordination_environments\\coordination_geometries_files\n",
      "  copying pymatgen\\analysis\\chemenv\\coordination_environments\\coordination_geometries_files\\SBT#8.json -> build\\lib.win-amd64-3.9\\pymatgen\\analysis\\chemenv\\coordination_environments\\coordination_geometries_files\n",
      "  copying pymatgen\\analysis\\chemenv\\coordination_environments\\coordination_geometries_files\\SC#12.json -> build\\lib.win-amd64-3.9\\pymatgen\\analysis\\chemenv\\coordination_environments\\coordination_geometries_files\n",
      "  copying pymatgen\\analysis\\chemenv\\coordination_environments\\coordination_geometries_files\\SH#11.json -> build\\lib.win-amd64-3.9\\pymatgen\\analysis\\chemenv\\coordination_environments\\coordination_geometries_files\n",
      "  copying pymatgen\\analysis\\chemenv\\coordination_environments\\coordination_geometries_files\\SH#13.json -> build\\lib.win-amd64-3.9\\pymatgen\\analysis\\chemenv\\coordination_environments\\coordination_geometries_files\n",
      "  copying pymatgen\\analysis\\chemenv\\coordination_environments\\coordination_geometries_files\\SMA#9.json -> build\\lib.win-amd64-3.9\\pymatgen\\analysis\\chemenv\\coordination_environments\\coordination_geometries_files\n",
      "  copying pymatgen\\analysis\\chemenv\\coordination_environments\\coordination_geometries_files\\SS#4.json -> build\\lib.win-amd64-3.9\\pymatgen\\analysis\\chemenv\\coordination_environments\\coordination_geometries_files\n",
      "  copying pymatgen\\analysis\\chemenv\\coordination_environments\\coordination_geometries_files\\SS#9.json -> build\\lib.win-amd64-3.9\\pymatgen\\analysis\\chemenv\\coordination_environments\\coordination_geometries_files\n",
      "  copying pymatgen\\analysis\\chemenv\\coordination_environments\\coordination_geometries_files\\ST#7.json -> build\\lib.win-amd64-3.9\\pymatgen\\analysis\\chemenv\\coordination_environments\\coordination_geometries_files\n",
      "  copying pymatgen\\analysis\\chemenv\\coordination_environments\\coordination_geometries_files\\SY#4.json -> build\\lib.win-amd64-3.9\\pymatgen\\analysis\\chemenv\\coordination_environments\\coordination_geometries_files\n",
      "  copying pymatgen\\analysis\\chemenv\\coordination_environments\\coordination_geometries_files\\T#4.json -> build\\lib.win-amd64-3.9\\pymatgen\\analysis\\chemenv\\coordination_environments\\coordination_geometries_files\n",
      "  copying pymatgen\\analysis\\chemenv\\coordination_environments\\coordination_geometries_files\\T#5.json -> build\\lib.win-amd64-3.9\\pymatgen\\analysis\\chemenv\\coordination_environments\\coordination_geometries_files\n",
      "  copying pymatgen\\analysis\\chemenv\\coordination_environments\\coordination_geometries_files\\T#6.json -> build\\lib.win-amd64-3.9\\pymatgen\\analysis\\chemenv\\coordination_environments\\coordination_geometries_files\n",
      "  copying pymatgen\\analysis\\chemenv\\coordination_environments\\coordination_geometries_files\\TBSA#10.json -> build\\lib.win-amd64-3.9\\pymatgen\\analysis\\chemenv\\coordination_environments\\coordination_geometries_files\n",
      "  copying pymatgen\\analysis\\chemenv\\coordination_environments\\coordination_geometries_files\\TBT#8.json -> build\\lib.win-amd64-3.9\\pymatgen\\analysis\\chemenv\\coordination_environments\\coordination_geometries_files\n",
      "  copying pymatgen\\analysis\\chemenv\\coordination_environments\\coordination_geometries_files\\TC#9.json -> build\\lib.win-amd64-3.9\\pymatgen\\analysis\\chemenv\\coordination_environments\\coordination_geometries_files\n",
      "  copying pymatgen\\analysis\\chemenv\\coordination_environments\\coordination_geometries_files\\TI#9.json -> build\\lib.win-amd64-3.9\\pymatgen\\analysis\\chemenv\\coordination_environments\\coordination_geometries_files\n",
      "  copying pymatgen\\analysis\\chemenv\\coordination_environments\\coordination_geometries_files\\TL#3.json -> build\\lib.win-amd64-3.9\\pymatgen\\analysis\\chemenv\\coordination_environments\\coordination_geometries_files\n",
      "  copying pymatgen\\analysis\\chemenv\\coordination_environments\\coordination_geometries_files\\TO_1#9.json -> build\\lib.win-amd64-3.9\\pymatgen\\analysis\\chemenv\\coordination_environments\\coordination_geometries_files\n",
      "  copying pymatgen\\analysis\\chemenv\\coordination_environments\\coordination_geometries_files\\TO_2#9.json -> build\\lib.win-amd64-3.9\\pymatgen\\analysis\\chemenv\\coordination_environments\\coordination_geometries_files\n",
      "  copying pymatgen\\analysis\\chemenv\\coordination_environments\\coordination_geometries_files\\TO_3#9.json -> build\\lib.win-amd64-3.9\\pymatgen\\analysis\\chemenv\\coordination_environments\\coordination_geometries_files\n",
      "  copying pymatgen\\analysis\\chemenv\\coordination_environments\\coordination_geometries_files\\TS#3.json -> build\\lib.win-amd64-3.9\\pymatgen\\analysis\\chemenv\\coordination_environments\\coordination_geometries_files\n",
      "  copying pymatgen\\analysis\\chemenv\\coordination_environments\\coordination_geometries_files\\TT#12.json -> build\\lib.win-amd64-3.9\\pymatgen\\analysis\\chemenv\\coordination_environments\\coordination_geometries_files\n",
      "  copying pymatgen\\analysis\\chemenv\\coordination_environments\\coordination_geometries_files\\TT_1#9.json -> build\\lib.win-amd64-3.9\\pymatgen\\analysis\\chemenv\\coordination_environments\\coordination_geometries_files\n",
      "  copying pymatgen\\analysis\\chemenv\\coordination_environments\\coordination_geometries_files\\TT_2#9.json -> build\\lib.win-amd64-3.9\\pymatgen\\analysis\\chemenv\\coordination_environments\\coordination_geometries_files\n",
      "  copying pymatgen\\analysis\\chemenv\\coordination_environments\\coordination_geometries_files\\TT_3#9.json -> build\\lib.win-amd64-3.9\\pymatgen\\analysis\\chemenv\\coordination_environments\\coordination_geometries_files\n",
      "  copying pymatgen\\analysis\\chemenv\\coordination_environments\\coordination_geometries_files\\TY#3.json -> build\\lib.win-amd64-3.9\\pymatgen\\analysis\\chemenv\\coordination_environments\\coordination_geometries_files\n",
      "  copying pymatgen\\analysis\\chemenv\\coordination_environments\\coordination_geometries_files\\allcg.txt -> build\\lib.win-amd64-3.9\\pymatgen\\analysis\\chemenv\\coordination_environments\\coordination_geometries_files\n",
      "  creating build\\lib.win-amd64-3.9\\pymatgen\\analysis\\chemenv\\coordination_environments\\strategy_files\n",
      "  copying pymatgen\\analysis\\chemenv\\coordination_environments\\strategy_files\\ImprovedConfidenceCutoffDefaultParameters.json -> build\\lib.win-amd64-3.9\\pymatgen\\analysis\\chemenv\\coordination_environments\\strategy_files\n",
      "  copying pymatgen\\analysis\\diffraction\\atomic_scattering_params.json -> build\\lib.win-amd64-3.9\\pymatgen\\analysis\\diffraction\n",
      "  copying pymatgen\\analysis\\diffraction\\neutron_scattering_length.json -> build\\lib.win-amd64-3.9\\pymatgen\\analysis\\diffraction\n",
      "  copying pymatgen\\analysis\\magnetism\\default_magmoms.yaml -> build\\lib.win-amd64-3.9\\pymatgen\\analysis\\magnetism\n",
      "  copying pymatgen\\analysis\\structure_prediction\\DLS_bond_params.yaml -> build\\lib.win-amd64-3.9\\pymatgen\\analysis\\structure_prediction\n",
      "  creating build\\lib.win-amd64-3.9\\pymatgen\\analysis\\structure_prediction\\data\n",
      "  copying pymatgen\\analysis\\structure_prediction\\data\\lambda.json -> build\\lib.win-amd64-3.9\\pymatgen\\analysis\\structure_prediction\\data\n",
      "  copying pymatgen\\analysis\\structure_prediction\\data\\pair_correlation.json -> build\\lib.win-amd64-3.9\\pymatgen\\analysis\\structure_prediction\\data\n",
      "  copying pymatgen\\io\\cp2k\\aux_basis.yaml -> build\\lib.win-amd64-3.9\\pymatgen\\io\\cp2k\n",
      "  copying pymatgen\\io\\cp2k\\basis_molopt.yaml -> build\\lib.win-amd64-3.9\\pymatgen\\io\\cp2k\n",
      "  copying pymatgen\\io\\cp2k\\gth_potentials.yaml -> build\\lib.win-amd64-3.9\\pymatgen\\io\\cp2k\n",
      "  copying pymatgen\\io\\cp2k\\NLCC_POTENTIALS.yaml -> build\\lib.win-amd64-3.9\\pymatgen\\io\\cp2k\n",
      "  copying pymatgen\\io\\feff\\MPELNESSet.yaml -> build\\lib.win-amd64-3.9\\pymatgen\\io\\feff\n",
      "  copying pymatgen\\io\\feff\\MPEXAFSSet.yaml -> build\\lib.win-amd64-3.9\\pymatgen\\io\\feff\n",
      "  copying pymatgen\\io\\feff\\MPEXELFSSet.yaml -> build\\lib.win-amd64-3.9\\pymatgen\\io\\feff\n",
      "  copying pymatgen\\io\\feff\\MPXANESSet.yaml -> build\\lib.win-amd64-3.9\\pymatgen\\io\\feff\n",
      "  copying pymatgen\\io\\lammps\\CoeffsDataType.yaml -> build\\lib.win-amd64-3.9\\pymatgen\\io\\lammps\n",
      "  creating build\\lib.win-amd64-3.9\\pymatgen\\io\\lobster\\lobster_basis\n",
      "  copying pymatgen\\io\\lobster\\lobster_basis\\BASIS_PBE_54_max.yaml -> build\\lib.win-amd64-3.9\\pymatgen\\io\\lobster\\lobster_basis\n",
      "  copying pymatgen\\io\\lobster\\lobster_basis\\BASIS_PBE_54_min.yaml -> build\\lib.win-amd64-3.9\\pymatgen\\io\\lobster\\lobster_basis\n",
      "  copying pymatgen\\io\\lobster\\lobster_basis\\BASIS_PBE_54_standard.yaml -> build\\lib.win-amd64-3.9\\pymatgen\\io\\lobster\\lobster_basis\n",
      "  copying pymatgen\\io\\vasp\\MITRelaxSet.yaml -> build\\lib.win-amd64-3.9\\pymatgen\\io\\vasp\n",
      "  copying pymatgen\\io\\vasp\\MPHSERelaxSet.yaml -> build\\lib.win-amd64-3.9\\pymatgen\\io\\vasp\n",
      "  copying pymatgen\\io\\vasp\\MPRelaxSet.yaml -> build\\lib.win-amd64-3.9\\pymatgen\\io\\vasp\n",
      "  copying pymatgen\\io\\vasp\\MPSCANRelaxSet.yaml -> build\\lib.win-amd64-3.9\\pymatgen\\io\\vasp\n",
      "  copying pymatgen\\io\\vasp\\MVLGWSet.yaml -> build\\lib.win-amd64-3.9\\pymatgen\\io\\vasp\n",
      "  copying pymatgen\\io\\vasp\\MVLRelax52Set.yaml -> build\\lib.win-amd64-3.9\\pymatgen\\io\\vasp\n",
      "  copying pymatgen\\io\\vasp\\VASPIncarBase.yaml -> build\\lib.win-amd64-3.9\\pymatgen\\io\\vasp\n",
      "  copying pymatgen\\io\\vasp\\vdW_parameters.yaml -> build\\lib.win-amd64-3.9\\pymatgen\\io\\vasp\n",
      "  copying pymatgen\\io\\vasp\\incar_parameters.json -> build\\lib.win-amd64-3.9\\pymatgen\\io\\vasp\n",
      "  copying pymatgen\\io\\vasp\\vasp_potcar_file_hashes.json -> build\\lib.win-amd64-3.9\\pymatgen\\io\\vasp\n",
      "  copying pymatgen\\io\\vasp\\vasp_potcar_pymatgen_hashes.json -> build\\lib.win-amd64-3.9\\pymatgen\\io\\vasp\n",
      "  running build_ext\n",
      "  C:\\Users\\krist\\AppData\\Local\\Programs\\Python\\Python39\\lib\\importlib\\__init__.py:169: UserWarning: The NumPy module was reloaded (imported a second time). This can in some cases result in small but subtle issues and is discouraged.\n",
      "    _bootstrap._exec(spec, module)\n",
      "  building 'pymatgen.optimization.linear_assignment' extension\n",
      "  error: Microsoft Visual C++ 14.0 or greater is required. Get it with \"Microsoft C++ Build Tools\": https://visualstudio.microsoft.com/visual-cpp-build-tools/\n",
      "  ----------------------------------------\n",
      "  ERROR: Failed building wheel for pymatgen\n",
      "ERROR: Could not build wheels for spglib, pymatgen which use PEP 517 and cannot be installed directly\n",
      "WARNING: You are using pip version 20.2.3; however, version 21.1.3 is available.\n",
      "You should consider upgrading via the 'C:\\Users\\krist\\AppData\\Local\\Programs\\Python\\Python39\\python.exe -m pip install --upgrade pip' command.\n",
      "\n",
      "  Building wheel for spglib (PEP 517): finished with status 'error'\n",
      "  Building wheel for pymatgen (PEP 517): started\n",
      "  Building wheel for pymatgen (PEP 517): finished with status 'error'\n",
      "  Building wheel for future (setup.py): started\n",
      "  Building wheel for future (setup.py): finished with status 'done'\n",
      "  Created wheel for future: filename=future-0.18.2-py3-none-any.whl size=491059 sha256=33aa987696d1e3141c60945ad7fae6ef601b36c144ccef776eb990df612f2dc8\n",
      "  Stored in directory: c:\\users\\krist\\appdata\\local\\pip\\cache\\wheels\\2f\\a0\\d3\\4030d9f80e6b3be787f19fc911b8e7aa462986a40ab1e4bb94\n",
      "Successfully built pyxtal future\n",
      "Failed to build spglib pymatgen\n"
     ]
    }
   ],
   "source": [
    "pip install pyxtal"
   ]
  },
  {
   "cell_type": "code",
   "execution_count": 4,
   "metadata": {},
   "outputs": [
    {
     "output_type": "error",
     "ename": "ModuleNotFoundError",
     "evalue": "No module named 'pyxtal'",
     "traceback": [
      "\u001b[1;31m---------------------------------------------------------------------------\u001b[0m",
      "\u001b[1;31mModuleNotFoundError\u001b[0m                       Traceback (most recent call last)",
      "\u001b[1;32m<ipython-input-4-af30a76bddfb>\u001b[0m in \u001b[0;36m<module>\u001b[1;34m\u001b[0m\n\u001b[1;32m----> 1\u001b[1;33m \u001b[1;32mfrom\u001b[0m \u001b[0mpyxtal\u001b[0m \u001b[1;32mimport\u001b[0m \u001b[0mpyxtal\u001b[0m\u001b[1;33m\u001b[0m\u001b[1;33m\u001b[0m\u001b[0m\n\u001b[0m\u001b[0;32m      2\u001b[0m \u001b[0mmy_crystal\u001b[0m \u001b[1;33m=\u001b[0m \u001b[0mpyxtal\u001b[0m\u001b[1;33m(\u001b[0m\u001b[1;33m)\u001b[0m\u001b[1;33m\u001b[0m\u001b[1;33m\u001b[0m\u001b[0m\n\u001b[0;32m      3\u001b[0m \u001b[0mmy_crystal\u001b[0m\u001b[1;33m.\u001b[0m\u001b[0mfrom_random\u001b[0m\u001b[1;33m(\u001b[0m\u001b[1;36m3\u001b[0m\u001b[1;33m,\u001b[0m \u001b[1;36m225\u001b[0m\u001b[1;33m,\u001b[0m \u001b[1;33m[\u001b[0m\u001b[1;34m'C'\u001b[0m\u001b[1;33m]\u001b[0m\u001b[1;33m,\u001b[0m \u001b[1;33m[\u001b[0m\u001b[1;36m12\u001b[0m\u001b[1;33m]\u001b[0m\u001b[1;33m)\u001b[0m\u001b[1;33m\u001b[0m\u001b[1;33m\u001b[0m\u001b[0m\n",
      "\u001b[1;31mModuleNotFoundError\u001b[0m: No module named 'pyxtal'"
     ]
    }
   ],
   "source": [
    "from pyxtal import pyxtal\n",
    "my_crystal = pyxtal()\n",
    "my_crystal.from_random(3, 225, ['C'], [12])"
   ]
  },
  {
   "cell_type": "code",
   "execution_count": null,
   "metadata": {},
   "outputs": [],
   "source": []
  }
 ]
}