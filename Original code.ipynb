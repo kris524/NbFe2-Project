{
 "metadata": {
  "language_info": {
   "codemirror_mode": {
    "name": "ipython",
    "version": 3
   },
   "file_extension": ".py",
   "mimetype": "text/x-python",
   "name": "python",
   "nbconvert_exporter": "python",
   "pygments_lexer": "ipython3",
   "version": "3.9.0"
  },
  "orig_nbformat": 4,
  "kernelspec": {
   "name": "python3",
   "display_name": "Python 3.9.0 64-bit"
  },
  "interpreter": {
   "hash": "a9c1387708d9e4974b2be20baf1ba03d24dc421de985eaacaca663e211393d73"
  }
 },
 "nbformat": 4,
 "nbformat_minor": 2,
 "cells": [
  {
   "cell_type": "code",
   "execution_count": 5,
   "metadata": {},
   "outputs": [
    {
     "output_type": "stream",
     "name": "stdout",
     "text": [
      "0.3326943784920376\n0.83665\n"
     ]
    }
   ],
   "source": [
    "# -*- coding: utf-8 -*-\n",
    "\"\"\"\n",
    "Created on Tue Mar  5 19:35:00 2019\n",
    "\n",
    "@author: USER\n",
    "\"\"\"\n",
    "import math,cmath\n",
    "import numpy\n",
    "\n",
    "n=10\n",
    "y=0.1705\n",
    "#the 8 positions of the atoms\n",
    "#all iron atom positoins in a unit cell\n",
    "pos=numpy.array([[0,0,0],[0,0,1/2],[y,2*y,1/4],[-2*y,-y,1/4],[y,-y,1/4],[-y,-2*y,3/4],[-y,y,3/4],[2*y,y,3/4]])\n",
    "#pos=numpy.array([[y,2*y,1/4],[-2*y,-y,1/4],[y,-y,1/4],[-y,-2*y,3/4],[-y,y,3/4],[2*y,y,3/4]])\n",
    "#pos=numpy.array([[0,0,0],[0,0,1/2]])\n",
    "\n",
    "#thats miller indices\n",
    "q_1=[3,0,1]\n",
    "q_sdw=[0,0,0.1]\n",
    "\n",
    "q_2=[1,0,1.1]\n",
    "#q_2 = [2,2,2]\n",
    "#I think this indicates ferromagent state\n",
    "sf_fm=0\n",
    "for p in range(0,len(pos)):\n",
    "    #this is the dot product between position and miller indices\n",
    "    sfexp = numpy.dot(pos[p],q_1)\n",
    "    #spin\n",
    "    moment=1\n",
    "    #Thats equation 3.35 from the book = 0 + j (-2pi dot)\n",
    "    sf_fm += moment*cmath.exp(complex(0, -2*cmath.pi*sfexp))  \n",
    "print(abs(sf_fm)**2)\n",
    "\n",
    "#I think this indicates the SDW state\n",
    "sf_sdw=0\n",
    "\n",
    "#Iterate 100 times \n",
    "#the overall method is the same its just the equation used is different....idk why\n",
    "for i in range (0,n): #goes through more bragg positions runs through more than one unit cell in the z direction,chain of unit cells stackeed on top of each other, unit cell 0 to 99\n",
    "    for p in range (0,len(pos)):\n",
    "\n",
    "        #only changes the last index of the position array\n",
    "        sfexp=numpy.dot(pos[p]+[0,0,i],q_2)\n",
    "        #print(sfexp)\n",
    "        #this is some way to calculate the momentum\n",
    "        moment= 1*math.cos(2*math.pi*(pos[p][2]+i)*q_sdw[2])\n",
    "        #print(moment)\n",
    "        sf_sdw+=moment*cmath.exp(complex(0,-2*cmath.pi*sfexp))\n",
    "print(round(abs(sf_sdw/n)**2,5))\n",
    "\n",
    "#There has to be an equation with dividing it by 100 or something \n",
    "    \n"
   ]
  },
  {
   "cell_type": "code",
   "execution_count": 38,
   "metadata": {},
   "outputs": [
    {
     "output_type": "error",
     "ename": "IndentationError",
     "evalue": "unindent does not match any outer indentation level (<tokenize>, line 26)",
     "traceback": [
      "\u001b[1;36m  File \u001b[1;32m\"<tokenize>\"\u001b[1;36m, line \u001b[1;32m26\u001b[0m\n\u001b[1;33m    moment= 1*math.cos(2*math.pi* (pos[p][2] + i) *q_sdw[2])\u001b[0m\n\u001b[1;37m    ^\u001b[0m\n\u001b[1;31mIndentationError\u001b[0m\u001b[1;31m:\u001b[0m unindent does not match any outer indentation level\n"
     ]
    }
   ],
   "source": [
    "import math,cmath\n",
    "import numpy as np\n",
    "\n",
    "n=10\n",
    "y=0.1705\n",
    "pos  =  np.array([[0,0,0],[0,0,1/2],[y, 2*y, 1/4],[-2*y, -y, 1/4],[y,-y,1/4],[-y,-2*y,3/4],[-y,y,3/4],[2*y,y,3/4]])\n",
    "\n",
    "\n",
    "q_sdw = [0,0,0.1]\n",
    "\n",
    "\n",
    "\n",
    "q_2 =[1,0,1.1] \n",
    "\n",
    "sf_sdw=0\n",
    "sfexp = []\n",
    "for i in range(n):\n",
    "    for p in range(0, len(pos)):\n",
    "\n",
    "[sfexp.append( np.dot(pos[p]+ [0,0,i], q_2)) ) for i in range(n) for p in range(0, len(pos))]\n",
    "        \n",
    "        \n",
    "    \n",
    "\n",
    "\n",
    "    moment= 1*math.cos(2*math.pi* (pos[p][2] + i) *q_sdw[2])\n",
    "\n",
    "    sf_sdw += moment* cmath.exp(complex(0,-2* cmath.pi*sfexp))\n",
    "\n",
    "       \n",
    "print(abs(sf_sdw/n)**2)\n",
    "\n",
    "   "
   ]
  },
  {
   "cell_type": "code",
   "execution_count": 93,
   "metadata": {},
   "outputs": [
    {
     "output_type": "stream",
     "name": "stdout",
     "text": [
      "49.28967378778049\n"
     ]
    }
   ],
   "source": [
    "#simple cubic lattice with \n",
    "#No consideration of angles \n",
    "import numpy as np\n",
    "import cmath\n",
    "\n",
    "#Positions u:\n",
    "u = np.array([[0,0,0], [1,0,0], [1,1,0],\n",
    "[0,1,0],[0,0,1],[1,0,1],[1,1,1],[0,1,1]])\n",
    "\n",
    "#Miller indicies \n",
    "Q = np.array([0,0,1])# go trough a range of these miller indecies, 0-2, 27 different positions\n",
    "#magnetic from factor\n",
    "m = 0\n",
    "for i in range (0,len(u)):\n",
    "    \n",
    "    #this is the dot product between position and miller indices\n",
    "    power=np.dot(u[i],Q)\n",
    "    #magnetic moment independent of Q\n",
    "    moment=1\n",
    "    #Thats equation 3.35 from the book\n",
    "    m+=moment*cmath.exp(complex(0,-power))  \n",
    "print(abs(m)**2)\n",
    "\n",
    "\n"
   ]
  },
  {
   "cell_type": "code",
   "execution_count": 18,
   "metadata": {},
   "outputs": [
    {
     "output_type": "stream",
     "name": "stdout",
     "text": [
      "50.496471565333884\n"
     ]
    }
   ],
   "source": [
    "\n",
    "#Here we assume one universal angle:\n",
    "u = np.array([[0,0,0], [1,0,0], [1,1,0],\n",
    "[0,1,0],[0,0,1],[1,0,1],[1,1,1],[0,1,1]])\n",
    "Q = np.array([0,0,1])\n",
    "\n",
    "\n",
    "angle = 0\n",
    "m=0\n",
    "for i in range(0,len(u)):\n",
    "\n",
    "    Q_modulo = np.sqrt((Q*Q).sum())\n",
    "    \n",
    "    u_modulo = np.sqrt((u[i]*u[i]).sum())\n",
    "\n",
    "    angle = math.radians(angle)\n",
    "    angle_power = math.cos(angle)\n",
    "    power = u_modulo*Q_modulo*angle_power\n",
    "    #magnetic moment independent of Q\n",
    "    moment=1\n",
    "    #Thats equation 3.35 from the book\n",
    "    m+=moment*cmath.exp(complex(0,-power))  \n",
    "\n",
    "print(abs(m)**2)\n",
    "\n"
   ]
  },
  {
   "cell_type": "code",
   "execution_count": 105,
   "metadata": {},
   "outputs": [
    {
     "output_type": "stream",
     "name": "stdout",
     "text": [
      "42.47023928773756\n"
     ]
    }
   ],
   "source": [
    "#simple cubic lattice with \n",
    "#NOW assume we dont have a different degree between Q and u\n",
    "import numpy as np\n",
    "import cmath\n",
    "#Positions u:\n",
    "u = np.array([[0,0,0], [1,0,0], [1,1,0],\n",
    "[0,1,0],[0,0,1],[1,0,1],[1,1,1],[0,1,1]])\n",
    "\n",
    "#Miller indicies \n",
    "Q = np.array([0,0,1])\n",
    "#magnetic from factor\n",
    "\n",
    "#angle in degrees, assuming every coordinate has a different angle wrt Q in the case 001\n",
    "angles = [0, 90,90,90,0, 45, 54.7 , 45]\n",
    "\n",
    "\n",
    "m = 0\n",
    "for i in range (0,len(u)):\n",
    "    \n",
    "    #this is the dot product between position and miller indices\n",
    "    #power=np.dot(u[i],Q)\n",
    "    u_modulo = np.sqrt((u[i]*u[i]).sum())\n",
    "    Q_modulo = np.sqrt((Q*Q).sum())\n",
    "    \n",
    "\n",
    "    angle = math.radians(angles[i])\n",
    "    angle_power = round(math.cos(angles[i]),5)\n",
    "\n",
    "    power = u_modulo*Q_modulo*angle_power\n",
    "    #magnetic moment independent of Q\n",
    "    moment=1\n",
    "    #Thats equation 3.35 from the book\n",
    "    m+=moment*cmath.exp(complex(0,-power))  \n",
    "print(abs(m)**2)\n",
    "\n",
    "\n"
   ]
  },
  {
   "cell_type": "code",
   "execution_count": 19,
   "metadata": {},
   "outputs": [],
   "source": [
    "from crystals import Crystal\n",
    "#This is the primitive cell file generated from our cif file\n",
    "NbFe2 = Crystal.from_cif(r'C:\\Users\\krist\\AppData\\Local\\Programs\\Python\\Python39\\Lib\\site-packages\\crystals\\cifs\\NbFe2_mp-568901_primitive.cif') "
   ]
  },
  {
   "cell_type": "code",
   "execution_count": 20,
   "metadata": {},
   "outputs": [
    {
     "output_type": "execute_result",
     "data": {
      "text/plain": [
       "< Crystal object with following unit cell:\n",
       "    Atom Fe @ (0.00, 0.00, 0.00)\n",
       "    Atom Fe @ (0.00, 0.00, 0.50)\n",
       "    Atom Fe @ (0.17, 0.34, 0.75)\n",
       "    Atom Fe @ (0.17, 0.83, 0.75)\n",
       "    Atom Fe @ (0.34, 0.17, 0.25)\n",
       "    Atom Fe @ (0.66, 0.83, 0.75)\n",
       "    Atom Fe @ (0.83, 0.17, 0.25)\n",
       "    Atom Fe @ (0.83, 0.66, 0.25)\n",
       "    Atom Nb @ (0.33, 0.67, 0.07)\n",
       "    Atom Nb @ (0.33, 0.67, 0.43)\n",
       "    Atom Nb @ (0.67, 0.33, 0.57)\n",
       "    Atom Nb @ (0.67, 0.33, 0.93)\n",
       "Lattice parameters:\n",
       "    a=4.760Å, b=4.760Å, c=7.895Å\n",
       "    α=90.000°, β=90.000°, γ=120.000°\n",
       "Chemical composition:\n",
       "    Fe: 66.667%\n",
       "    Nb: 33.333% >"
      ]
     },
     "metadata": {},
     "execution_count": 20
    }
   ],
   "source": [
    "NbFe2"
   ]
  },
  {
   "cell_type": "code",
   "execution_count": 18,
   "metadata": {},
   "outputs": [
    {
     "output_type": "execute_result",
     "data": {
      "text/plain": [
       "frozenset({'Ac',\n",
       "           'Ag',\n",
       "           'Al',\n",
       "           'Am',\n",
       "           'As',\n",
       "           'Au',\n",
       "           'B',\n",
       "           'Ba',\n",
       "           'BaTiO3_cubic',\n",
       "           'Be',\n",
       "           'Bi',\n",
       "           'Br',\n",
       "           'C',\n",
       "           'Ca',\n",
       "           'Cd',\n",
       "           'Ce-gamma',\n",
       "           'Co',\n",
       "           'Cr',\n",
       "           'Cs',\n",
       "           'Cu',\n",
       "           'Dy',\n",
       "           'Er',\n",
       "           'Eu',\n",
       "           'Fe',\n",
       "           'FeAs',\n",
       "           'Ga',\n",
       "           'GaAs',\n",
       "           'Gd',\n",
       "           'Ge',\n",
       "           'Hf',\n",
       "           'Ho',\n",
       "           'I',\n",
       "           'In',\n",
       "           'Ir',\n",
       "           'K',\n",
       "           'La',\n",
       "           'Li',\n",
       "           'Lu',\n",
       "           'Mg',\n",
       "           'Mn',\n",
       "           'Mo',\n",
       "           'Na',\n",
       "           'Nb',\n",
       "           'NbFe2',\n",
       "           'Nd',\n",
       "           'Ni',\n",
       "           'Np',\n",
       "           'Os',\n",
       "           'P',\n",
       "           'Pb',\n",
       "           'Pd',\n",
       "           'Pr',\n",
       "           'Pt',\n",
       "           'Pu-alpha',\n",
       "           'Pu-delta',\n",
       "           'Pu-epsilon',\n",
       "           'Pu-gamma',\n",
       "           'Rb',\n",
       "           'Re',\n",
       "           'Rh',\n",
       "           'Ru',\n",
       "           'S',\n",
       "           'Sb',\n",
       "           'Sc',\n",
       "           'Si',\n",
       "           'SiC',\n",
       "           'Sm',\n",
       "           'Sn-alpha',\n",
       "           'Sn-beta',\n",
       "           'Sr',\n",
       "           'Ta',\n",
       "           'Tb',\n",
       "           'Th',\n",
       "           'Ti',\n",
       "           'Tl',\n",
       "           'Tm',\n",
       "           'U',\n",
       "           'V',\n",
       "           'W',\n",
       "           'Y',\n",
       "           'Yb',\n",
       "           'Zn',\n",
       "           'Zr',\n",
       "           'alpha-Mn',\n",
       "           'diamond',\n",
       "           'gamma-Pu',\n",
       "           'vo2-m1',\n",
       "           'vo2-rutile'})"
      ]
     },
     "metadata": {},
     "execution_count": 18
    }
   ],
   "source": [
    "Crystal.builtins "
   ]
  },
  {
   "source": [
    "Source: https://materialsproject.org/materials/mp-568901/#"
   ],
   "cell_type": "markdown",
   "metadata": {}
  },
  {
   "cell_type": "code",
   "execution_count": 15,
   "metadata": {},
   "outputs": [
    {
     "output_type": "execute_result",
     "data": {
      "text/plain": [
       "< Crystal object with following unit cell:\n",
       "    Atom Fe @ (0.12, 0.62, 0.62)\n",
       "    Atom Fe @ (0.62, 0.12, 0.62)\n",
       "    Atom Fe @ (0.62, 0.62, 0.12)\n",
       "    Atom Fe @ (0.62, 0.62, 0.62)\n",
       "    Atom Nb @ (0.00, 0.00, 0.00)\n",
       "    Atom Nb @ (0.25, 0.25, 0.25)\n",
       "Lattice parameters:\n",
       "    a=4.825Å, b=4.825Å, c=4.825Å\n",
       "    α=60.000°, β=60.000°, γ=60.000°\n",
       "Chemical composition:\n",
       "    Fe: 66.667%\n",
       "    Nb: 33.333% >"
      ]
     },
     "metadata": {},
     "execution_count": 15
    }
   ],
   "source": [
    "Crystal.from_database('NbFe2') #Generate crystal from database"
   ]
  },
  {
   "cell_type": "code",
   "execution_count": 124,
   "metadata": {},
   "outputs": [
    {
     "output_type": "execute_result",
     "data": {
      "text/plain": [
       "< AtomicStructure object with following orphan atoms:\n",
       "    Atom Fe @ (0.00, 0.00, 0.00)\n",
       "    Atom Fe @ (0.00, 0.00, 0.50)\n",
       "    Atom Fe @ (0.17, 0.34, 0.75)\n",
       "    Atom Fe @ (0.17, 0.83, 0.75)\n",
       "    Atom Fe @ (0.34, 0.17, 0.25)\n",
       "    Atom Fe @ (0.66, 0.83, 0.75)\n",
       "    Atom Fe @ (0.83, 0.17, 0.25)\n",
       "    Atom Fe @ (0.83, 0.66, 0.25) >"
      ]
     },
     "metadata": {},
     "execution_count": 124
    }
   ],
   "source": [
    "from crystals import is_element\n",
    "Fe2 = NbFe2.satisfying( is_element('Fe'))\n",
    "Fe2 #Only get the iron atoms, this step will be skipped for other atoms"
   ]
  },
  {
   "cell_type": "code",
   "execution_count": 125,
   "metadata": {},
   "outputs": [],
   "source": [
    "from crystals import Crystal\n",
    "#This is the primitive cell file generated from our cif file\n",
    "NbFe2 = Crystal.from_cif(r'C:\\Users\\krist\\AppData\\Local\\Programs\\Python\\Python39\\Lib\\site-packages\\crystals\\cifs\\NbFe2_mp-568901_primitive.cif') "
   ]
  },
  {
   "cell_type": "code",
   "execution_count": 126,
   "metadata": {},
   "outputs": [
    {
     "output_type": "execute_result",
     "data": {
      "text/plain": [
       "< Crystal object with following unit cell:\n",
       "    Atom Fe @ (0.00, 0.00, 0.00)\n",
       "    Atom Fe @ (0.00, 0.00, 0.50)\n",
       "    Atom Fe @ (0.17, 0.34, 0.75)\n",
       "    Atom Fe @ (0.17, 0.83, 0.75)\n",
       "    Atom Fe @ (0.34, 0.17, 0.25)\n",
       "    Atom Fe @ (0.66, 0.83, 0.75)\n",
       "    Atom Fe @ (0.83, 0.17, 0.25)\n",
       "    Atom Fe @ (0.83, 0.66, 0.25)\n",
       "    Atom Nb @ (0.33, 0.67, 0.07)\n",
       "    Atom Nb @ (0.33, 0.67, 0.43)\n",
       "    Atom Nb @ (0.67, 0.33, 0.57)\n",
       "    Atom Nb @ (0.67, 0.33, 0.93)\n",
       "Lattice parameters:\n",
       "    a=4.760Å, b=4.760Å, c=7.895Å\n",
       "    α=90.000°, β=90.000°, γ=120.000°\n",
       "Chemical composition:\n",
       "    Fe: 66.667%\n",
       "    Nb: 33.333% >"
      ]
     },
     "metadata": {},
     "execution_count": 126
    }
   ],
   "source": [
    "NbFe2"
   ]
  },
  {
   "cell_type": "code",
   "execution_count": 131,
   "metadata": {},
   "outputs": [
    {
     "output_type": "execute_result",
     "data": {
      "text/plain": [
       "< AtomicStructure object with following orphan atoms:\n",
       "    Atom Fe @ (0.00, 0.00, 0.00)\n",
       "    Atom Fe @ (0.00, 0.00, 0.50)\n",
       "    Atom Fe @ (0.17, 0.34, 0.75)\n",
       "    Atom Fe @ (0.17, 0.83, 0.75)\n",
       "    Atom Fe @ (0.34, 0.17, 0.25)\n",
       "    Atom Fe @ (0.66, 0.83, 0.75)\n",
       "    Atom Fe @ (0.83, 0.17, 0.25)\n",
       "    Atom Fe @ (0.83, 0.66, 0.25) >"
      ]
     },
     "metadata": {},
     "execution_count": 131
    }
   ],
   "source": [
    "from crystals import is_element\n",
    "Fe2 = NbFe2.satisfying( is_element('Fe'))\n",
    "Fe2"
   ]
  },
  {
   "cell_type": "code",
   "execution_count": 133,
   "metadata": {},
   "outputs": [
    {
     "output_type": "stream",
     "name": "stdout",
     "text": [
      "[0.340232, 0.170116, 0.25, 0.829884, 0.659768, 0.25, 0.170116, 0.829884, 0.75, 0.0, 0.0, 0.0, 0.829884, 0.170116, 0.25, 0.170116, 0.340232, 0.75, 0.0, 0.0, 0.5, 0.659768, 0.829884, 0.75]\n"
     ]
    }
   ],
   "source": [
    "import numpy as np\n",
    "atomic_position = []\n",
    "for atm in Fe2:\n",
    " \n",
    "    \n",
    "    #print(atm)\n",
    "    txt = numpy.array(atm)\n",
    "    #print(txt)\n",
    "    #b = [int(s) for s in txt.split() if s.isdigit()]\n",
    "    #atomic_position.append(repr(numpy.array(atm)))\n",
    "    #print(b)\n",
    "    for i in range(len(txt)):\n",
    "        #print(txt[i])\n",
    "        if txt[i] < 1:\n",
    "            atomic_position.append(txt[i])\n",
    "\n",
    "print(atomic_position)\n",
    "\n",
    "#for x in atomic_position:\n",
    "\n",
    "#[int(s) for s in txt.split() if s.isdigit()]"
   ]
  },
  {
   "cell_type": "code",
   "execution_count": 123,
   "metadata": {},
   "outputs": [
    {
     "output_type": "execute_result",
     "data": {
      "text/plain": [
       "< Crystal object with following unit cell:\n",
       "    Atom Si @ (0.00, 0.00, 0.00)\n",
       "    Atom Si @ (0.00, 0.50, 0.50)\n",
       "    Atom Si @ (0.25, 0.25, 0.25)\n",
       "    Atom Si @ (0.25, 0.75, 0.75)\n",
       "    Atom Si @ (0.50, 0.00, 0.50)\n",
       "    Atom Si @ (0.50, 0.50, 0.00)\n",
       "    Atom Si @ (0.75, 0.25, 0.75)\n",
       "    Atom Si @ (0.75, 0.75, 0.25)\n",
       "Lattice parameters:\n",
       "    a=5.431Å, b=5.431Å, c=5.431Å\n",
       "    α=90.000°, β=90.000°, γ=90.000°\n",
       "Chemical composition:\n",
       "    Si: 100.000% >"
      ]
     },
     "metadata": {},
     "execution_count": 123
    }
   ],
   "source": [
    "Si = Crystal.from_database('Si')\n",
    "Si"
   ]
  },
  {
   "cell_type": "code",
   "execution_count": 122,
   "metadata": {},
   "outputs": [
    {
     "output_type": "stream",
     "name": "stdout",
     "text": [
      "[0.0, 0.0, 0.0, 0.0, 0.5, 0.5, 0.75, 0.75, 0.25, 0.25, 0.25, 0.25, 0.5, 0.5, 0.0, 0.75, 0.25, 0.75, 0.25, 0.75, 0.75, 0.5, 0.0, 0.5]\n"
     ]
    }
   ],
   "source": [
    "import numpy as np\n",
    "atomic_position = []\n",
    "for atm in Si:\n",
    " \n",
    "    \n",
    "    \n",
    "    txt = numpy.array(atm)\n",
    "    #print(txt)\n",
    "    #b = [int(s) for s in txt.split() if s.isdigit()]\n",
    "    #atomic_position.append(repr(numpy.array(atm)))\n",
    "    #print(b)\n",
    "    for i in range(len(txt)):\n",
    "        #print(txt[i])\n",
    "        if txt[i] < 1:\n",
    "            atomic_position.append(txt[i])\n",
    "\n",
    "print(atomic_position)  "
   ]
  },
  {
   "cell_type": "code",
   "execution_count": 10,
   "metadata": {},
   "outputs": [
    {
     "output_type": "execute_result",
     "data": {
      "text/plain": [
       "array([[26.   ,  0.125,  0.625,  0.625],\n",
       "       [26.   ,  0.625,  0.125,  0.625],\n",
       "       [26.   ,  0.625,  0.625,  0.125],\n",
       "       [26.   ,  0.625,  0.625,  0.625],\n",
       "       [41.   ,  0.   ,  0.   ,  0.   ],\n",
       "       [41.   ,  0.25 ,  0.25 ,  0.25 ]])"
      ]
     },
     "metadata": {},
     "execution_count": 10
    }
   ],
   "source": [
    "import numpy\n",
    "numpy.array(Crystal.from_database('NbFe2'))"
   ]
  },
  {
   "cell_type": "code",
   "execution_count": null,
   "metadata": {},
   "outputs": [],
   "source": []
  }
 ]
}